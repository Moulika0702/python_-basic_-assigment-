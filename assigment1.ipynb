{
 "cells": [
  {
   "cell_type": "code",
   "execution_count": 1,
   "id": "4b615590-b261-4312-91bd-552558f5d170",
   "metadata": {},
   "outputs": [],
   "source": [
    "#"
   ]
  },
  {
   "cell_type": "code",
   "execution_count": 2,
   "id": "960c7215-92c2-470a-9c63-6a293642708b",
   "metadata": {},
   "outputs": [],
   "source": [
    "# Question_1 : explain the key features of python that makes it a popular choice for programming  ."
   ]
  },
  {
   "cell_type": "code",
   "execution_count": 3,
   "id": "5dce3ac2-b26b-4b0a-8536-098687444f38",
   "metadata": {},
   "outputs": [],
   "source": [
    "# Question_2 : describe the role of predefined keywords in python and provide examples of how they are used in programm ."
   ]
  },
  {
   "cell_type": "code",
   "execution_count": 4,
   "id": "1a236090-896b-4544-9d55-b1faf3f3cda2",
   "metadata": {},
   "outputs": [
    {
     "name": "stdout",
     "output_type": "stream",
     "text": [
      " Hellow world !!! \n"
     ]
    }
   ],
   "source": [
    "# Example :\n",
    "\n",
    "print (\" Hellow world !!! \") # here print is a keyword "
   ]
  },
  {
   "cell_type": "code",
   "execution_count": 5,
   "id": "d688eead-a807-4255-bf90-c5d96c60d8b6",
   "metadata": {},
   "outputs": [
    {
     "data": {
      "text/plain": [
       "7"
      ]
     },
     "execution_count": 5,
     "metadata": {},
     "output_type": "execute_result"
    }
   ],
   "source": [
    "# Example :\n",
    "\n",
    "\n",
    "a=7 # a is as a variable \n",
    "\n",
    "a "
   ]
  },
  {
   "cell_type": "code",
   "execution_count": 6,
   "id": "23870c73-98af-4785-9f10-33e63702a1df",
   "metadata": {},
   "outputs": [],
   "source": [
    "# Question_3 : compare and  contrast mutable and immutable objects in python with examples ."
   ]
  },
  {
   "cell_type": "code",
   "execution_count": 7,
   "id": "20ba4f51-71e6-4544-9242-1c31a20f13f7",
   "metadata": {},
   "outputs": [
    {
     "data": {
      "text/plain": [
       "['moulika', 'shivani', 'minu', 'rinku']"
      ]
     },
     "execution_count": 7,
     "metadata": {},
     "output_type": "execute_result"
    }
   ],
   "source": [
    "# Example of mutable \n",
    "\n",
    "\n",
    "lis =[ \"moulika\", \"shivani\" , \"minu\" , \"rinku\" ] # lis is a list \n",
    "\n",
    "\n",
    "lis "
   ]
  },
  {
   "cell_type": "code",
   "execution_count": 8,
   "id": "18f1af49-5783-438a-84bd-6105ec44d39f",
   "metadata": {},
   "outputs": [
    {
     "data": {
      "text/plain": [
       "[' patil ', 'shivani', 'minu', 'rinku']"
      ]
     },
     "execution_count": 8,
     "metadata": {},
     "output_type": "execute_result"
    }
   ],
   "source": [
    "lis [0] = \" patil \" # list is a mutable because after creation that will be change \n",
    "\n",
    "\n",
    "lis "
   ]
  },
  {
   "cell_type": "code",
   "execution_count": 9,
   "id": "9f86c563-70c0-47c2-a42b-48abc80a7076",
   "metadata": {},
   "outputs": [
    {
     "data": {
      "text/plain": [
       "' Moulika Patil '"
      ]
     },
     "execution_count": 9,
     "metadata": {},
     "output_type": "execute_result"
    }
   ],
   "source": [
    "# Example of immutable \n",
    "\n",
    "str1 = \" Moulika Patil \" # str1 is a string \n",
    "\n",
    "\n",
    "str1 "
   ]
  },
  {
   "cell_type": "code",
   "execution_count": 10,
   "id": "bb9512fc-f623-4c7b-ae9d-d55d73c65d39",
   "metadata": {},
   "outputs": [
    {
     "ename": "TypeError",
     "evalue": "'str' object does not support item assignment",
     "output_type": "error",
     "traceback": [
      "\u001b[0;31m---------------------------------------------------------------------------\u001b[0m",
      "\u001b[0;31mTypeError\u001b[0m                                 Traceback (most recent call last)",
      "Cell \u001b[0;32mIn[10], line 1\u001b[0m\n\u001b[0;32m----> 1\u001b[0m \u001b[43mstr1\u001b[49m\u001b[43m \u001b[49m\u001b[43m[\u001b[49m\u001b[38;5;241;43m0\u001b[39;49m\u001b[43m]\u001b[49m \u001b[38;5;241m=\u001b[39m \u001b[38;5;124m\"\u001b[39m\u001b[38;5;124mN\u001b[39m\u001b[38;5;124m\"\u001b[39m \u001b[38;5;66;03m# string is a immutable because after creation will be not change string \u001b[39;00m\n\u001b[1;32m      4\u001b[0m str1           \u001b[38;5;66;03m# it will be give error \u001b[39;00m\n",
      "\u001b[0;31mTypeError\u001b[0m: 'str' object does not support item assignment"
     ]
    }
   ],
   "source": [
    "str1 [0] = \"N\" # string is a immutable because after creation will be not change string \n",
    "\n",
    "\n",
    "str1           # it will be give error "
   ]
  },
  {
   "cell_type": "code",
   "execution_count": 11,
   "id": "694fd849-86fc-40c9-adad-5180e92ad226",
   "metadata": {},
   "outputs": [],
   "source": [
    "# Question_4 : Disscuss the different types of operators in python and provide examples of how thwy are used ."
   ]
  },
  {
   "cell_type": "code",
   "execution_count": 12,
   "id": "be1a2c55-fb54-468c-9145-55e1f5bf76a7",
   "metadata": {},
   "outputs": [
    {
     "name": "stdout",
     "output_type": "stream",
     "text": [
      "12\n",
      "2\n",
      "35\n",
      "1.4\n",
      "1\n",
      "2\n"
     ]
    }
   ],
   "source": [
    "# Example : \n",
    "\n",
    "# arithmatic operator example :\n",
    "\n",
    "a = 7 \n",
    "b = 5 \n",
    "\n",
    "\n",
    "print (a+b) \n",
    "\n",
    "print (a-b) \n",
    "\n",
    "print (a*b)  \n",
    "\n",
    "print (a/b) \n",
    "\n",
    "print (a//b) \n",
    "\n",
    "print (a%b) \n"
   ]
  },
  {
   "cell_type": "code",
   "execution_count": 19,
   "id": "ff2f507e-76ca-4887-88a0-562c549eee9f",
   "metadata": {},
   "outputs": [
    {
     "name": "stdout",
     "output_type": "stream",
     "text": [
      "Valid Name\n"
     ]
    }
   ],
   "source": [
    "# comparsion operator \n",
    "\n",
    "name = \"Moulika Patil\"\n",
    "\n",
    "if name == \"Moulika Patil\" :  # comparsion operator ==\n",
    "    \n",
    "    print (\"Valid Name\")\n",
    "    \n",
    "else : \n",
    "    \n",
    "    print ( \"Not Valid Name\")\n",
    "    "
   ]
  },
  {
   "cell_type": "code",
   "execution_count": 20,
   "id": "3fa3bd24-ab79-495d-ac45-36b724beec34",
   "metadata": {},
   "outputs": [
    {
     "data": {
      "text/plain": [
       "True"
      ]
     },
     "execution_count": 20,
     "metadata": {},
     "output_type": "execute_result"
    }
   ],
   "source": [
    "  \n",
    "    # logical operators (and ,or,not)\n",
    "    True and True "
   ]
  },
  {
   "cell_type": "code",
   "execution_count": 21,
   "id": "fa9262df-c923-4192-8298-7f84118bb622",
   "metadata": {},
   "outputs": [
    {
     "data": {
      "text/plain": [
       "True"
      ]
     },
     "execution_count": 21,
     "metadata": {},
     "output_type": "execute_result"
    }
   ],
   "source": [
    "\n",
    "  True or False"
   ]
  },
  {
   "cell_type": "code",
   "execution_count": 22,
   "id": "d96721da-a6e7-4401-84a8-65671be4a64b",
   "metadata": {},
   "outputs": [
    {
     "data": {
      "text/plain": [
       "False"
      ]
     },
     "execution_count": 22,
     "metadata": {},
     "output_type": "execute_result"
    }
   ],
   "source": [
    "(not True)"
   ]
  },
  {
   "cell_type": "code",
   "execution_count": 23,
   "id": "d2001f9b-13da-433f-b7c2-e0d889bbf1bc",
   "metadata": {},
   "outputs": [
    {
     "data": {
      "text/plain": [
       "7"
      ]
     },
     "execution_count": 23,
     "metadata": {},
     "output_type": "execute_result"
    }
   ],
   "source": [
    "  \n",
    "  #  assigment operators (= , += , -= , *= , /=)\n",
    "\n",
    "  a = 7 \n",
    "  \n",
    "  a "
   ]
  },
  {
   "cell_type": "code",
   "execution_count": 24,
   "id": "ed90e844-b6c2-4f0b-a07e-903acf19ee9e",
   "metadata": {},
   "outputs": [
    {
     "data": {
      "text/plain": [
       "13"
      ]
     },
     "execution_count": 24,
     "metadata": {},
     "output_type": "execute_result"
    }
   ],
   "source": [
    "a+=6\n",
    "\n",
    "a"
   ]
  },
  {
   "cell_type": "code",
   "execution_count": 25,
   "id": "b063cf6e-1420-45cd-8c67-466dfe3d40ac",
   "metadata": {},
   "outputs": [
    {
     "data": {
      "text/plain": [
       "9"
      ]
     },
     "execution_count": 25,
     "metadata": {},
     "output_type": "execute_result"
    }
   ],
   "source": [
    "a-= 4\n",
    "\n",
    "a "
   ]
  },
  {
   "cell_type": "code",
   "execution_count": 27,
   "id": "d6c5aa3d-34db-4c54-b1ae-b603e8b89d55",
   "metadata": {},
   "outputs": [
    {
     "data": {
      "text/plain": [
       "27"
      ]
     },
     "execution_count": 27,
     "metadata": {},
     "output_type": "execute_result"
    }
   ],
   "source": [
    "a*= 3\n",
    "\n",
    "a"
   ]
  },
  {
   "cell_type": "code",
   "execution_count": 28,
   "id": "5abd8258-27b6-44a4-915b-4e5da4c980bf",
   "metadata": {},
   "outputs": [
    {
     "data": {
      "text/plain": [
       "3.375"
      ]
     },
     "execution_count": 28,
     "metadata": {},
     "output_type": "execute_result"
    }
   ],
   "source": [
    "a/= 8\n",
    "\n",
    "a"
   ]
  },
  {
   "cell_type": "code",
   "execution_count": 29,
   "id": "4f9aff84-1078-4821-a2c3-0e33bcfd29d8",
   "metadata": {},
   "outputs": [
    {
     "data": {
      "text/plain": [
       "0.0"
      ]
     },
     "execution_count": 29,
     "metadata": {},
     "output_type": "execute_result"
    }
   ],
   "source": [
    "a//= 5\n",
    "\n",
    "a"
   ]
  },
  {
   "cell_type": "code",
   "execution_count": 30,
   "id": "51be3d1b-a154-446c-8282-43c5ee542198",
   "metadata": {},
   "outputs": [
    {
     "data": {
      "text/plain": [
       "0.0"
      ]
     },
     "execution_count": 30,
     "metadata": {},
     "output_type": "execute_result"
    }
   ],
   "source": [
    "a%= 7\n",
    "\n",
    "a"
   ]
  },
  {
   "cell_type": "code",
   "execution_count": 34,
   "id": "c271c18d-579c-40de-83fe-078c19cd09d4",
   "metadata": {},
   "outputs": [
    {
     "data": {
      "text/plain": [
       "True"
      ]
     },
     "execution_count": 34,
     "metadata": {},
     "output_type": "execute_result"
    }
   ],
   "source": [
    "# Member ship operator \n",
    "\n",
    "lis = [\"moulika\", \"shivani\" , \"minu\" , \"rinku\"]\n",
    "\n",
    "\"moulika\" in lis "
   ]
  },
  {
   "cell_type": "code",
   "execution_count": 35,
   "id": "e523b6f9-c038-4fe2-ae08-62ef55554ffb",
   "metadata": {},
   "outputs": [
    {
     "data": {
      "text/plain": [
       "False"
      ]
     },
     "execution_count": 35,
     "metadata": {},
     "output_type": "execute_result"
    }
   ],
   "source": [
    "\"moulika\" not in lis "
   ]
  },
  {
   "cell_type": "code",
   "execution_count": 36,
   "id": "50ad4fb3-9e2f-4f45-b277-570fd364950b",
   "metadata": {},
   "outputs": [],
   "source": [
    "# Question_5 : explain the concept of python with example ."
   ]
  },
  {
   "cell_type": "code",
   "execution_count": 37,
   "id": "796288cb-982d-43b6-80e5-ee0e77ecf23e",
   "metadata": {},
   "outputs": [
    {
     "data": {
      "text/plain": [
       "int"
      ]
     },
     "execution_count": 37,
     "metadata": {},
     "output_type": "execute_result"
    }
   ],
   "source": [
    "# Exammple of Type casting \n",
    "\n",
    "a=7 \n",
    "\n",
    "type (a)"
   ]
  },
  {
   "cell_type": "code",
   "execution_count": 38,
   "id": "5a9d2dca-9a09-4180-805e-555bec91ee6a",
   "metadata": {},
   "outputs": [
    {
     "data": {
      "text/plain": [
       "str"
      ]
     },
     "execution_count": 38,
     "metadata": {},
     "output_type": "execute_result"
    }
   ],
   "source": [
    "name = \"Moulika Patil\" \n",
    "\n",
    "type  (name)"
   ]
  },
  {
   "cell_type": "code",
   "execution_count": 39,
   "id": "cf06bea0-82d8-4d2f-9ceb-7245cb5bea8c",
   "metadata": {},
   "outputs": [
    {
     "data": {
      "text/plain": [
       "float"
      ]
     },
     "execution_count": 39,
     "metadata": {},
     "output_type": "execute_result"
    }
   ],
   "source": [
    "num = 4.7\n",
    "\n",
    "type (num)"
   ]
  },
  {
   "cell_type": "code",
   "execution_count": 40,
   "id": "58742046-fbec-447b-9e44-e3fba5882d8d",
   "metadata": {},
   "outputs": [
    {
     "data": {
      "text/plain": [
       "list"
      ]
     },
     "execution_count": 40,
     "metadata": {},
     "output_type": "execute_result"
    }
   ],
   "source": [
    "lis = [ 3,4,5,2.4, \"Moulika Patil\", 29 ]\n",
    "\n",
    "type (lis)\n"
   ]
  },
  {
   "cell_type": "code",
   "execution_count": 42,
   "id": "faf9594a-ffb0-4a74-834a-f152aafb7dce",
   "metadata": {},
   "outputs": [
    {
     "data": {
      "text/plain": [
       "tuple"
      ]
     },
     "execution_count": 42,
     "metadata": {},
     "output_type": "execute_result"
    }
   ],
   "source": [
    "tup = (3,4,5,2.4, \"Moulika Patil\")\n",
    "\n",
    "type (tup)"
   ]
  },
  {
   "cell_type": "code",
   "execution_count": 43,
   "id": "28487bf3-da27-400b-8655-5d485e2b211b",
   "metadata": {},
   "outputs": [
    {
     "name": "stdout",
     "output_type": "stream",
     "text": [
      "<class 'str'>\n"
     ]
    }
   ],
   "source": [
    "  \n",
    "    # type casting >> conversion one data type to another data type \n",
    "    \n",
    "    # integre to string \n",
    "    \n",
    "    a= 7 \n",
    "    \n",
    "    print (type (str(a))) \n",
    "    \n",
    "    "
   ]
  },
  {
   "cell_type": "code",
   "execution_count": 44,
   "id": "ee207b1d-52e1-497d-984d-4864e56fc8bb",
   "metadata": {},
   "outputs": [
    {
     "name": "stdout",
     "output_type": "stream",
     "text": [
      "<class 'float'>\n"
     ]
    }
   ],
   "source": [
    "  \n",
    "    # integer to float \n",
    "    \n",
    "    a= 7 \n",
    "    \n",
    "    print (type (float(a)))"
   ]
  },
  {
   "cell_type": "code",
   "execution_count": 46,
   "id": "a7fd4b71-b641-4a25-af46-5e34ebcda8cf",
   "metadata": {},
   "outputs": [
    {
     "name": "stdout",
     "output_type": "stream",
     "text": [
      "<class 'tuple'>\n"
     ]
    }
   ],
   "source": [
    "  \n",
    "    # list to tuple\n",
    "    \n",
    "    lis = [3,4,5.4,\"Moulika\"] \n",
    "    \n",
    "    print(type(tuple(lis)))"
   ]
  },
  {
   "cell_type": "code",
   "execution_count": 54,
   "id": "10ab33d6-b1cb-419e-bfb4-42814127b2ff",
   "metadata": {},
   "outputs": [],
   "source": [
    "# Question_6 : how do conditional statement work in python? illustrate with example . "
   ]
  },
  {
   "cell_type": "code",
   "execution_count": 22,
   "id": "ae79108f-e7a5-43e0-a1c0-f713cb3ba076",
   "metadata": {},
   "outputs": [
    {
     "name": "stdout",
     "output_type": "stream",
     "text": [
      "you are all rounder\n"
     ]
    }
   ],
   "source": [
    "# Example :\n",
    "\n",
    "# if statement \n",
    "\n",
    "grade = 5 \n",
    "\n",
    "co_cirr=True \n",
    "\n",
    "if ((grade >= 5) and (co_cirr == True)): \n",
    "\n",
    "    print (\"you are all rounder\")"
   ]
  },
  {
   "cell_type": "code",
   "execution_count": 23,
   "id": "033ee59d-d9b4-47b0-97c0-a5fc229f04d3",
   "metadata": {},
   "outputs": [
    {
     "name": "stdout",
     "output_type": "stream",
     "text": [
      "Valid Email\n"
     ]
    }
   ],
   "source": [
    "# if- else statement \n",
    "email=\"moulikapatil1@gmail.com\"\n",
    "if \"@\" in email : \n",
    "    print (\"Valid Email\") \n",
    "else :\n",
    "    print (\"Not Valid Email\")"
   ]
  },
  {
   "cell_type": "code",
   "execution_count": 1,
   "id": "454c0211-4666-4587-874a-77a508d478eb",
   "metadata": {},
   "outputs": [
    {
     "name": "stdout",
     "output_type": "stream",
     "text": [
      "The number is huge\n"
     ]
    }
   ],
   "source": [
    "# if-elif-else statement \n",
    "\n",
    "a = 5000\n",
    "\n",
    "if a<300 : \n",
    "    \n",
    "    print (\"this block will be executed if a is lesser than 300\")\n",
    "    \n",
    "elif a>4000 :\n",
    "    \n",
    "    print (\"The number is huge\")\n",
    "    \n",
    "elif a>300 :\n",
    "    \n",
    "    print (\"This block will be execute if a is greater than 300\")\n",
    "    \n",
    "else :\n",
    "    \n",
    "    print (\"The number is equal to 300\")\n",
    "    \n",
    "    "
   ]
  },
  {
   "cell_type": "code",
   "execution_count": 5,
   "id": "6cda41ec-d272-45f1-9b93-dbca4483e43c",
   "metadata": {},
   "outputs": [
    {
     "name": "stdout",
     "output_type": "stream",
     "text": [
      "Both x and y is greater than 6\n"
     ]
    }
   ],
   "source": [
    "# nested if else \n",
    "x=7\n",
    "\n",
    "y=7 \n",
    "\n",
    "if x > 6:\n",
    "    if y > 6 :\n",
    "        \n",
    "        print (\"Both x and y is greater than 6\")\n",
    "        \n",
    "    else :\n",
    "        \n",
    "        print (\"x is a greater than 6 but y is less than 6 \")\n",
    "        \n",
    "        \n",
    "else :        \n",
    "        \n",
    "    print (\"x is not greater than 6\")\n",
    "\n"
   ]
  },
  {
   "cell_type": "code",
   "execution_count": 1,
   "id": "a45c9b0f-5f4a-40df-a7dd-e1e0e8c347d9",
   "metadata": {},
   "outputs": [],
   "source": [
    "# Question_7 : Describe the different types of loop in python and their use cases with examples."
   ]
  },
  {
   "cell_type": "code",
   "execution_count": 2,
   "id": "c41128b3-ef04-445b-99ac-b993ad73977a",
   "metadata": {},
   "outputs": [
    {
     "name": "stdout",
     "output_type": "stream",
     "text": [
      "print the enen number = \n",
      "Even Number = 2. \n",
      "Even Number = 4. \n",
      "Even Number = 6. \n",
      "Even Number = 8. \n",
      "Even Number = 10. \n",
      "Even Number = 12. \n",
      "Even Number = 14. \n",
      "Even Number = 16. \n",
      "Even Number = 18. \n",
      "Even Number = 20. \n",
      "Even Number = 22. \n",
      "Even Number = 24. \n",
      "Even Number = 26. \n",
      "Even Number = 28. \n",
      "print the odd number = \n",
      "Odd Number =1. \n",
      "Odd Number =3. \n",
      "Odd Number =5. \n",
      "Odd Number =7. \n",
      "Odd Number =9. \n",
      "Odd Number =11. \n",
      "Odd Number =13. \n",
      "Odd Number =15. \n",
      "Odd Number =17. \n",
      "Odd Number =19. \n",
      "Odd Number =21. \n",
      "Odd Number =23. \n",
      "Odd Number =25. \n",
      "Odd Number =27. \n",
      "Odd Number =29. \n"
     ]
    }
   ],
   "source": [
    "# Example of for loop \n",
    "# print the even number \n",
    "print (\"print the enen number = \")\n",
    "for i in range (1,30) :\n",
    "    if i%2==0 :\n",
    "        print (f\"Even Number = {i}. \")\n",
    "# print the odd number \n",
    "print (\"print the odd number = \")\n",
    "for i in range (1,30) :\n",
    "    if i%2!=0:\n",
    "        print (f\"Odd Number ={i}. \")"
   ]
  },
  {
   "cell_type": "code",
   "execution_count": 2,
   "id": "033f868b-ed98-435e-bbe4-71107fd63844",
   "metadata": {},
   "outputs": [
    {
     "name": "stdout",
     "output_type": "stream",
     "text": [
      "print the enen number = \n",
      "Even Number = 2. \n",
      "Even Number = 4. \n",
      "Even Number = 6. \n",
      "Even Number = 8. \n",
      "Even Number = 10. \n",
      "Even Number = 12. \n",
      "Even Number = 14. \n",
      "Even Number = 16. \n",
      "Even Number = 18. \n",
      "Even Number = 20. \n",
      "Even Number = 22. \n",
      "Even Number = 24. \n",
      "Even Number = 26. \n",
      "Even Number = 28. \n",
      "print the odd number = \n",
      "Odd Number =1. \n",
      "Odd Number =3. \n",
      "Odd Number =5. \n",
      "Odd Number =7. \n",
      "Odd Number =9. \n",
      "Odd Number =11. \n",
      "Odd Number =13. \n",
      "Odd Number =15. \n",
      "Odd Number =17. \n",
      "Odd Number =19. \n",
      "Odd Number =21. \n",
      "Odd Number =23. \n",
      "Odd Number =25. \n",
      "Odd Number =27. \n",
      "Odd Number =29. \n"
     ]
    }
   ],
   "source": [
    "# Example of for loop \n",
    "# print the even number \n",
    "print (\"print the enen number = \")\n",
    "for i in range (1,30) :\n",
    "    if i%2==0 :\n",
    "        print (f\"Even Number = {i}. \")\n",
    "# print the odd number \n",
    "print (\"print the odd number = \")\n",
    "for i in range (1,30) :\n",
    "    if i%2!=0:\n",
    "        print (f\"Odd Number ={i}. \")"
   ]
  },
  {
   "cell_type": "code",
   "execution_count": 13,
   "id": "b34a6954-b2f3-49bd-82f3-de4b403d9e3a",
   "metadata": {},
   "outputs": [
    {
     "name": "stdout",
     "output_type": "stream",
     "text": [
      "print the enen number= \n",
      "Even Number = 2. \n",
      "print the Odd number= \n",
      "Odd Number = 1. \n"
     ]
    }
   ],
   "source": [
    "# Example of break statemment \n",
    "# pritn the even number \n",
    "print(\"print the enen number= \")\n",
    "for i in range (1,30):\n",
    "    if i%2==0:\n",
    "        print (f\"Even Number = {i}. \")\n",
    "        break \n",
    "# print the odd nummber\n",
    "print (\"print the Odd number= \")\n",
    "for i in range (1,30):\n",
    "    if i%2!=0:\n",
    "        print (f\"Odd Number = {i}. \")\n",
    "        break"
   ]
  },
  {
   "cell_type": "code",
   "execution_count": 1,
   "id": "c360f44d-177a-4f35-8115-71da764196f5",
   "metadata": {},
   "outputs": [
    {
     "name": "stdout",
     "output_type": "stream",
     "text": [
      "7\n",
      "6\n",
      "5\n",
      "4\n",
      "3\n",
      "2\n",
      "1\n"
     ]
    }
   ],
   "source": [
    "# while loop example\n",
    "\n",
    "count = 7\n",
    "\n",
    "while count > 0:\n",
    "    \n",
    "    print (count)\n",
    "    \n",
    "    count=count-1"
   ]
  },
  {
   "cell_type": "code",
   "execution_count": 1,
   "id": "c8e24fbb-fe7a-4e11-b604-9b824e5464cb",
   "metadata": {},
   "outputs": [
    {
     "name": "stdout",
     "output_type": "stream",
     "text": [
      "print the enen number= \n",
      "Even Number = 2. \n",
      "Even Number = 4. \n",
      "Even Number = 6. \n",
      "Even Number = 8. \n",
      "Even Number = 10. \n",
      "Even Number = 12. \n",
      "Even Number = 14. \n",
      "Even Number = 16. \n",
      "Even Number = 18. \n",
      "Even Number = 20. \n",
      "Even Number = 22. \n",
      "Even Number = 24. \n",
      "Even Number = 26. \n",
      "Even Number = 28. \n",
      "print the Odd number= \n",
      "Odd Number = 1. \n",
      "Odd Number = 3. \n",
      "Odd Number = 5. \n",
      "Odd Number = 7. \n",
      "Odd Number = 9. \n",
      "Odd Number = 11. \n",
      "Odd Number = 13. \n",
      "Odd Number = 15. \n",
      "Odd Number = 17. \n",
      "Odd Number = 19. \n",
      "Odd Number = 21. \n",
      "Odd Number = 23. \n",
      "Odd Number = 25. \n",
      "Odd Number = 27. \n",
      "Odd Number = 29. \n"
     ]
    }
   ],
   "source": [
    "# Example of break statement \n",
    "# pritn the even number \n",
    "print(\"print the enen number= \")\n",
    "for i in range (1,30):\n",
    "    if i%2==0:\n",
    "        if i==3:\n",
    "            continue \n",
    "            \n",
    "        print (f\"Even Number = {i}. \")\n",
    "         \n",
    "# print the odd nummber\n",
    "print (\"print the Odd number= \")\n",
    "for i in range (1,30):\n",
    "    if i%2!=0:\n",
    "        if i==4:\n",
    "            continue\n",
    "        print (f\"Odd Number = {i}. \")\n",
    "        "
   ]
  },
  {
   "cell_type": "code",
   "execution_count": null,
   "id": "51eeb02d-8ee1-4a6e-b8c6-a78313199927",
   "metadata": {},
   "outputs": [],
   "source": []
  }
 ],
 "metadata": {
  "kernelspec": {
   "display_name": "Python 3 (ipykernel)",
   "language": "python",
   "name": "python3"
  },
  "language_info": {
   "codemirror_mode": {
    "name": "ipython",
    "version": 3
   },
   "file_extension": ".py",
   "mimetype": "text/x-python",
   "name": "python",
   "nbconvert_exporter": "python",
   "pygments_lexer": "ipython3",
   "version": "3.10.8"
  }
 },
 "nbformat": 4,
 "nbformat_minor": 5
}
